{
 "cells": [
  {
   "cell_type": "code",
   "execution_count": 1,
   "metadata": {},
   "outputs": [],
   "source": [
    "import pandas as pd\n",
    "import numpy as np\n",
    "import matplotlib.pyplot as plt\n",
    "import seaborn as sns\n",
    "import warnings\n",
    "warnings.filterwarnings('ignore')"
   ]
  },
  {
   "cell_type": "code",
   "execution_count": 2,
   "metadata": {},
   "outputs": [],
   "source": [
    "sns.set(style='white')\n",
    "sns.set(style='whitegrid', color_codes=True)"
   ]
  },
  {
   "cell_type": "markdown",
   "metadata": {},
   "source": [
    "### 1) Read the dataset into the notebook."
   ]
  },
  {
   "cell_type": "code",
   "execution_count": 3,
   "metadata": {},
   "outputs": [
    {
     "data": {
      "text/html": [
       "<div>\n",
       "<style scoped>\n",
       "    .dataframe tbody tr th:only-of-type {\n",
       "        vertical-align: middle;\n",
       "    }\n",
       "\n",
       "    .dataframe tbody tr th {\n",
       "        vertical-align: top;\n",
       "    }\n",
       "\n",
       "    .dataframe thead th {\n",
       "        text-align: right;\n",
       "    }\n",
       "</style>\n",
       "<table border=\"1\" class=\"dataframe\">\n",
       "  <thead>\n",
       "    <tr style=\"text-align: right;\">\n",
       "      <th></th>\n",
       "      <th>Cement (component 1)(kg in a m^3 mixture)</th>\n",
       "      <th>Blast Furnace Slag (component 2)(kg in a m^3 mixture)</th>\n",
       "      <th>Fly Ash (component 3)(kg in a m^3 mixture)</th>\n",
       "      <th>Water  (component 4)(kg in a m^3 mixture)</th>\n",
       "      <th>Superplasticizer (component 5)(kg in a m^3 mixture)</th>\n",
       "      <th>Coarse Aggregate  (component 6)(kg in a m^3 mixture)</th>\n",
       "      <th>Fine Aggregate (component 7)(kg in a m^3 mixture)</th>\n",
       "      <th>Age (day)</th>\n",
       "      <th>Concrete compressive strength(MPa, megapascals)</th>\n",
       "    </tr>\n",
       "  </thead>\n",
       "  <tbody>\n",
       "    <tr>\n",
       "      <th>0</th>\n",
       "      <td>540.0</td>\n",
       "      <td>0.0</td>\n",
       "      <td>0.0</td>\n",
       "      <td>162.0</td>\n",
       "      <td>2.5</td>\n",
       "      <td>1040.0</td>\n",
       "      <td>676.0</td>\n",
       "      <td>28</td>\n",
       "      <td>79.986111</td>\n",
       "    </tr>\n",
       "    <tr>\n",
       "      <th>1</th>\n",
       "      <td>540.0</td>\n",
       "      <td>0.0</td>\n",
       "      <td>0.0</td>\n",
       "      <td>162.0</td>\n",
       "      <td>2.5</td>\n",
       "      <td>1055.0</td>\n",
       "      <td>676.0</td>\n",
       "      <td>28</td>\n",
       "      <td>61.887366</td>\n",
       "    </tr>\n",
       "    <tr>\n",
       "      <th>2</th>\n",
       "      <td>332.5</td>\n",
       "      <td>142.5</td>\n",
       "      <td>0.0</td>\n",
       "      <td>228.0</td>\n",
       "      <td>0.0</td>\n",
       "      <td>932.0</td>\n",
       "      <td>594.0</td>\n",
       "      <td>270</td>\n",
       "      <td>40.269535</td>\n",
       "    </tr>\n",
       "    <tr>\n",
       "      <th>3</th>\n",
       "      <td>332.5</td>\n",
       "      <td>142.5</td>\n",
       "      <td>0.0</td>\n",
       "      <td>228.0</td>\n",
       "      <td>0.0</td>\n",
       "      <td>932.0</td>\n",
       "      <td>594.0</td>\n",
       "      <td>365</td>\n",
       "      <td>41.052780</td>\n",
       "    </tr>\n",
       "  </tbody>\n",
       "</table>\n",
       "</div>"
      ],
      "text/plain": [
       "   Cement (component 1)(kg in a m^3 mixture)  \\\n",
       "0                                      540.0   \n",
       "1                                      540.0   \n",
       "2                                      332.5   \n",
       "3                                      332.5   \n",
       "\n",
       "   Blast Furnace Slag (component 2)(kg in a m^3 mixture)  \\\n",
       "0                                                0.0       \n",
       "1                                                0.0       \n",
       "2                                              142.5       \n",
       "3                                              142.5       \n",
       "\n",
       "   Fly Ash (component 3)(kg in a m^3 mixture)  \\\n",
       "0                                         0.0   \n",
       "1                                         0.0   \n",
       "2                                         0.0   \n",
       "3                                         0.0   \n",
       "\n",
       "   Water  (component 4)(kg in a m^3 mixture)  \\\n",
       "0                                      162.0   \n",
       "1                                      162.0   \n",
       "2                                      228.0   \n",
       "3                                      228.0   \n",
       "\n",
       "   Superplasticizer (component 5)(kg in a m^3 mixture)  \\\n",
       "0                                                2.5     \n",
       "1                                                2.5     \n",
       "2                                                0.0     \n",
       "3                                                0.0     \n",
       "\n",
       "   Coarse Aggregate  (component 6)(kg in a m^3 mixture)  \\\n",
       "0                                             1040.0      \n",
       "1                                             1055.0      \n",
       "2                                              932.0      \n",
       "3                                              932.0      \n",
       "\n",
       "   Fine Aggregate (component 7)(kg in a m^3 mixture)  Age (day)  \\\n",
       "0                                              676.0         28   \n",
       "1                                              676.0         28   \n",
       "2                                              594.0        270   \n",
       "3                                              594.0        365   \n",
       "\n",
       "   Concrete compressive strength(MPa, megapascals)   \n",
       "0                                         79.986111  \n",
       "1                                         61.887366  \n",
       "2                                         40.269535  \n",
       "3                                         41.052780  "
      ]
     },
     "execution_count": 3,
     "metadata": {},
     "output_type": "execute_result"
    }
   ],
   "source": [
    "df = pd.read_excel(r\"C:\\Users\\Asus\\Downloads\\1356641-ML_Project_Concrete_Strength_Prediction\\ML_Projrct_Concrete_Strength_Prediction\\Concrete_Data.xls\")\n",
    "df.head(4)"
   ]
  },
  {
   "cell_type": "markdown",
   "metadata": {},
   "source": [
    "### 2) Print the shape of the data."
   ]
  },
  {
   "cell_type": "code",
   "execution_count": 4,
   "metadata": {},
   "outputs": [
    {
     "data": {
      "text/plain": [
       "(1030, 9)"
      ]
     },
     "execution_count": 4,
     "metadata": {},
     "output_type": "execute_result"
    }
   ],
   "source": [
    "df.shape"
   ]
  },
  {
   "cell_type": "code",
   "execution_count": 5,
   "metadata": {},
   "outputs": [
    {
     "data": {
      "text/plain": [
       "Index(['Cement (component 1)(kg in a m^3 mixture)',\n",
       "       'Blast Furnace Slag (component 2)(kg in a m^3 mixture)',\n",
       "       'Fly Ash (component 3)(kg in a m^3 mixture)',\n",
       "       'Water  (component 4)(kg in a m^3 mixture)',\n",
       "       'Superplasticizer (component 5)(kg in a m^3 mixture)',\n",
       "       'Coarse Aggregate  (component 6)(kg in a m^3 mixture)',\n",
       "       'Fine Aggregate (component 7)(kg in a m^3 mixture)', 'Age (day)',\n",
       "       'Concrete compressive strength(MPa, megapascals) '],\n",
       "      dtype='object')"
      ]
     },
     "execution_count": 5,
     "metadata": {},
     "output_type": "execute_result"
    }
   ],
   "source": [
    "df.columns"
   ]
  },
  {
   "cell_type": "code",
   "execution_count": 6,
   "metadata": {},
   "outputs": [],
   "source": [
    "# Renaming the columns.\n",
    "\n",
    "df = df.rename(columns = {'Cement (component 1)(kg in a m^3 mixture)' : 'Cement',\n",
    "       'Blast Furnace Slag (component 2)(kg in a m^3 mixture)' : 'Blast_Fur',\n",
    "       'Fly Ash (component 3)(kg in a m^3 mixture)' : 'Fly_Ash',\n",
    "       'Water  (component 4)(kg in a m^3 mixture)' : 'Water',\n",
    "       'Superplasticizer (component 5)(kg in a m^3 mixture)' : 'Plasticizer',\n",
    "       'Coarse Aggregate  (component 6)(kg in a m^3 mixture)' : 'Coarse',\n",
    "       'Fine Aggregate (component 7)(kg in a m^3 mixture)' : 'Fine', 'Age (day)' : 'Age',\n",
    "       'Concrete compressive strength(MPa, megapascals) ' : 'Concrete'})"
   ]
  },
  {
   "cell_type": "code",
   "execution_count": 7,
   "metadata": {},
   "outputs": [
    {
     "data": {
      "text/html": [
       "<div>\n",
       "<style scoped>\n",
       "    .dataframe tbody tr th:only-of-type {\n",
       "        vertical-align: middle;\n",
       "    }\n",
       "\n",
       "    .dataframe tbody tr th {\n",
       "        vertical-align: top;\n",
       "    }\n",
       "\n",
       "    .dataframe thead th {\n",
       "        text-align: right;\n",
       "    }\n",
       "</style>\n",
       "<table border=\"1\" class=\"dataframe\">\n",
       "  <thead>\n",
       "    <tr style=\"text-align: right;\">\n",
       "      <th></th>\n",
       "      <th>Cement</th>\n",
       "      <th>Blast_Fur</th>\n",
       "      <th>Fly_Ash</th>\n",
       "      <th>Water</th>\n",
       "      <th>Plasticizer</th>\n",
       "      <th>Coarse</th>\n",
       "      <th>Fine</th>\n",
       "      <th>Age</th>\n",
       "      <th>Concrete</th>\n",
       "    </tr>\n",
       "  </thead>\n",
       "  <tbody>\n",
       "    <tr>\n",
       "      <th>0</th>\n",
       "      <td>540.0</td>\n",
       "      <td>0.0</td>\n",
       "      <td>0.0</td>\n",
       "      <td>162.0</td>\n",
       "      <td>2.5</td>\n",
       "      <td>1040.0</td>\n",
       "      <td>676.0</td>\n",
       "      <td>28</td>\n",
       "      <td>79.986111</td>\n",
       "    </tr>\n",
       "    <tr>\n",
       "      <th>1</th>\n",
       "      <td>540.0</td>\n",
       "      <td>0.0</td>\n",
       "      <td>0.0</td>\n",
       "      <td>162.0</td>\n",
       "      <td>2.5</td>\n",
       "      <td>1055.0</td>\n",
       "      <td>676.0</td>\n",
       "      <td>28</td>\n",
       "      <td>61.887366</td>\n",
       "    </tr>\n",
       "    <tr>\n",
       "      <th>2</th>\n",
       "      <td>332.5</td>\n",
       "      <td>142.5</td>\n",
       "      <td>0.0</td>\n",
       "      <td>228.0</td>\n",
       "      <td>0.0</td>\n",
       "      <td>932.0</td>\n",
       "      <td>594.0</td>\n",
       "      <td>270</td>\n",
       "      <td>40.269535</td>\n",
       "    </tr>\n",
       "  </tbody>\n",
       "</table>\n",
       "</div>"
      ],
      "text/plain": [
       "   Cement  Blast_Fur  Fly_Ash  Water  Plasticizer  Coarse   Fine  Age  \\\n",
       "0   540.0        0.0      0.0  162.0          2.5  1040.0  676.0   28   \n",
       "1   540.0        0.0      0.0  162.0          2.5  1055.0  676.0   28   \n",
       "2   332.5      142.5      0.0  228.0          0.0   932.0  594.0  270   \n",
       "\n",
       "    Concrete  \n",
       "0  79.986111  \n",
       "1  61.887366  \n",
       "2  40.269535  "
      ]
     },
     "execution_count": 7,
     "metadata": {},
     "output_type": "execute_result"
    }
   ],
   "source": [
    "df.head(3)"
   ]
  },
  {
   "cell_type": "markdown",
   "metadata": {},
   "source": [
    "### 3) List out the feature variables and their data-types."
   ]
  },
  {
   "cell_type": "code",
   "execution_count": 8,
   "metadata": {},
   "outputs": [],
   "source": [
    "feature_vars = ['Cement', 'Blast_Fur', 'Fly_Ash', 'Water', 'Plasticizer', 'Coarse','Fine', 'Age']"
   ]
  },
  {
   "cell_type": "code",
   "execution_count": 9,
   "metadata": {},
   "outputs": [
    {
     "data": {
      "text/plain": [
       "Cement         float64\n",
       "Blast_Fur      float64\n",
       "Fly_Ash        float64\n",
       "Water          float64\n",
       "Plasticizer    float64\n",
       "Coarse         float64\n",
       "Fine           float64\n",
       "Age              int64\n",
       "dtype: object"
      ]
     },
     "execution_count": 9,
     "metadata": {},
     "output_type": "execute_result"
    }
   ],
   "source": [
    "df[feature_vars].dtypes"
   ]
  },
  {
   "cell_type": "markdown",
   "metadata": {},
   "source": [
    "### 4) List out response variable and its data type."
   ]
  },
  {
   "cell_type": "code",
   "execution_count": 10,
   "metadata": {},
   "outputs": [
    {
     "data": {
      "text/plain": [
       "dtype('float64')"
      ]
     },
     "execution_count": 10,
     "metadata": {},
     "output_type": "execute_result"
    }
   ],
   "source": [
    "# Checking response variable data_type.\n",
    "\n",
    "df['Concrete'].dtypes"
   ]
  },
  {
   "cell_type": "markdown",
   "metadata": {},
   "source": [
    "### 5) List out response variable and its data type."
   ]
  },
  {
   "cell_type": "code",
   "execution_count": 11,
   "metadata": {},
   "outputs": [
    {
     "data": {
      "text/plain": [
       "Cement         0\n",
       "Blast_Fur      0\n",
       "Fly_Ash        0\n",
       "Water          0\n",
       "Plasticizer    0\n",
       "Coarse         0\n",
       "Fine           0\n",
       "Age            0\n",
       "Concrete       0\n",
       "dtype: int64"
      ]
     },
     "execution_count": 11,
     "metadata": {},
     "output_type": "execute_result"
    }
   ],
   "source": [
    "# Checking Null_values:\n",
    "\n",
    "df.isnull().sum()"
   ]
  },
  {
   "cell_type": "markdown",
   "metadata": {},
   "source": [
    "### 6) Check for outliers."
   ]
  },
  {
   "cell_type": "code",
   "execution_count": 12,
   "metadata": {},
   "outputs": [
    {
     "data": {
      "text/plain": [
       "Cement         157.625000\n",
       "Blast_Fur      142.950000\n",
       "Fly_Ash        118.270000\n",
       "Water           27.100000\n",
       "Plasticizer     10.160000\n",
       "Coarse          97.400000\n",
       "Fine            93.050000\n",
       "Age             49.000000\n",
       "Concrete        22.429171\n",
       "dtype: float64"
      ]
     },
     "execution_count": 12,
     "metadata": {},
     "output_type": "execute_result"
    }
   ],
   "source": [
    "# Checking Outliers:\n",
    "\n",
    "cols = ['Cement', 'Blast_Fur', 'Fly_Ash', 'Water', 'Plasticizer', 'Coarse','Fine', 'Age','Concrete']\n",
    "q1 = df[cols].quantile(0.25)\n",
    "q3 = df[cols].quantile(0.75)\n",
    "iqr = q3 - q1\n",
    "iqr"
   ]
  },
  {
   "cell_type": "markdown",
   "metadata": {},
   "source": [
    "### 7) Treat outliers. What is your strategy? What other strategies can be used?"
   ]
  },
  {
   "cell_type": "code",
   "execution_count": 13,
   "metadata": {},
   "outputs": [
    {
     "data": {
      "text/html": [
       "<div>\n",
       "<style scoped>\n",
       "    .dataframe tbody tr th:only-of-type {\n",
       "        vertical-align: middle;\n",
       "    }\n",
       "\n",
       "    .dataframe tbody tr th {\n",
       "        vertical-align: top;\n",
       "    }\n",
       "\n",
       "    .dataframe thead th {\n",
       "        text-align: right;\n",
       "    }\n",
       "</style>\n",
       "<table border=\"1\" class=\"dataframe\">\n",
       "  <thead>\n",
       "    <tr style=\"text-align: right;\">\n",
       "      <th></th>\n",
       "      <th>Cement</th>\n",
       "      <th>Blast_Fur</th>\n",
       "      <th>Fly_Ash</th>\n",
       "      <th>Water</th>\n",
       "      <th>Plasticizer</th>\n",
       "      <th>Coarse</th>\n",
       "      <th>Fine</th>\n",
       "      <th>Age</th>\n",
       "      <th>Concrete</th>\n",
       "    </tr>\n",
       "  </thead>\n",
       "  <tbody>\n",
       "    <tr>\n",
       "      <th>1</th>\n",
       "      <td>540.0</td>\n",
       "      <td>0.0</td>\n",
       "      <td>0.0</td>\n",
       "      <td>162.0</td>\n",
       "      <td>2.5</td>\n",
       "      <td>1055.0</td>\n",
       "      <td>676.0</td>\n",
       "      <td>28</td>\n",
       "      <td>61.887366</td>\n",
       "    </tr>\n",
       "    <tr>\n",
       "      <th>5</th>\n",
       "      <td>266.0</td>\n",
       "      <td>114.0</td>\n",
       "      <td>0.0</td>\n",
       "      <td>228.0</td>\n",
       "      <td>0.0</td>\n",
       "      <td>932.0</td>\n",
       "      <td>670.0</td>\n",
       "      <td>90</td>\n",
       "      <td>47.029847</td>\n",
       "    </tr>\n",
       "    <tr>\n",
       "      <th>7</th>\n",
       "      <td>380.0</td>\n",
       "      <td>95.0</td>\n",
       "      <td>0.0</td>\n",
       "      <td>228.0</td>\n",
       "      <td>0.0</td>\n",
       "      <td>932.0</td>\n",
       "      <td>594.0</td>\n",
       "      <td>28</td>\n",
       "      <td>36.447770</td>\n",
       "    </tr>\n",
       "    <tr>\n",
       "      <th>8</th>\n",
       "      <td>266.0</td>\n",
       "      <td>114.0</td>\n",
       "      <td>0.0</td>\n",
       "      <td>228.0</td>\n",
       "      <td>0.0</td>\n",
       "      <td>932.0</td>\n",
       "      <td>670.0</td>\n",
       "      <td>28</td>\n",
       "      <td>45.854291</td>\n",
       "    </tr>\n",
       "    <tr>\n",
       "      <th>9</th>\n",
       "      <td>475.0</td>\n",
       "      <td>0.0</td>\n",
       "      <td>0.0</td>\n",
       "      <td>228.0</td>\n",
       "      <td>0.0</td>\n",
       "      <td>932.0</td>\n",
       "      <td>594.0</td>\n",
       "      <td>28</td>\n",
       "      <td>39.289790</td>\n",
       "    </tr>\n",
       "    <tr>\n",
       "      <th>...</th>\n",
       "      <td>...</td>\n",
       "      <td>...</td>\n",
       "      <td>...</td>\n",
       "      <td>...</td>\n",
       "      <td>...</td>\n",
       "      <td>...</td>\n",
       "      <td>...</td>\n",
       "      <td>...</td>\n",
       "      <td>...</td>\n",
       "    </tr>\n",
       "    <tr>\n",
       "      <th>1025</th>\n",
       "      <td>276.4</td>\n",
       "      <td>116.0</td>\n",
       "      <td>90.3</td>\n",
       "      <td>179.6</td>\n",
       "      <td>8.9</td>\n",
       "      <td>870.1</td>\n",
       "      <td>768.3</td>\n",
       "      <td>28</td>\n",
       "      <td>44.284354</td>\n",
       "    </tr>\n",
       "    <tr>\n",
       "      <th>1026</th>\n",
       "      <td>322.2</td>\n",
       "      <td>0.0</td>\n",
       "      <td>115.6</td>\n",
       "      <td>196.0</td>\n",
       "      <td>10.4</td>\n",
       "      <td>817.9</td>\n",
       "      <td>813.4</td>\n",
       "      <td>28</td>\n",
       "      <td>31.178794</td>\n",
       "    </tr>\n",
       "    <tr>\n",
       "      <th>1027</th>\n",
       "      <td>148.5</td>\n",
       "      <td>139.4</td>\n",
       "      <td>108.6</td>\n",
       "      <td>192.7</td>\n",
       "      <td>6.1</td>\n",
       "      <td>892.4</td>\n",
       "      <td>780.0</td>\n",
       "      <td>28</td>\n",
       "      <td>23.696601</td>\n",
       "    </tr>\n",
       "    <tr>\n",
       "      <th>1028</th>\n",
       "      <td>159.1</td>\n",
       "      <td>186.7</td>\n",
       "      <td>0.0</td>\n",
       "      <td>175.6</td>\n",
       "      <td>11.3</td>\n",
       "      <td>989.6</td>\n",
       "      <td>788.9</td>\n",
       "      <td>28</td>\n",
       "      <td>32.768036</td>\n",
       "    </tr>\n",
       "    <tr>\n",
       "      <th>1029</th>\n",
       "      <td>260.9</td>\n",
       "      <td>100.5</td>\n",
       "      <td>78.3</td>\n",
       "      <td>200.6</td>\n",
       "      <td>8.6</td>\n",
       "      <td>864.5</td>\n",
       "      <td>761.5</td>\n",
       "      <td>28</td>\n",
       "      <td>32.401235</td>\n",
       "    </tr>\n",
       "  </tbody>\n",
       "</table>\n",
       "<p>941 rows × 9 columns</p>\n",
       "</div>"
      ],
      "text/plain": [
       "      Cement  Blast_Fur  Fly_Ash  Water  Plasticizer  Coarse   Fine  Age  \\\n",
       "1      540.0        0.0      0.0  162.0          2.5  1055.0  676.0   28   \n",
       "5      266.0      114.0      0.0  228.0          0.0   932.0  670.0   90   \n",
       "7      380.0       95.0      0.0  228.0          0.0   932.0  594.0   28   \n",
       "8      266.0      114.0      0.0  228.0          0.0   932.0  670.0   28   \n",
       "9      475.0        0.0      0.0  228.0          0.0   932.0  594.0   28   \n",
       "...      ...        ...      ...    ...          ...     ...    ...  ...   \n",
       "1025   276.4      116.0     90.3  179.6          8.9   870.1  768.3   28   \n",
       "1026   322.2        0.0    115.6  196.0         10.4   817.9  813.4   28   \n",
       "1027   148.5      139.4    108.6  192.7          6.1   892.4  780.0   28   \n",
       "1028   159.1      186.7      0.0  175.6         11.3   989.6  788.9   28   \n",
       "1029   260.9      100.5     78.3  200.6          8.6   864.5  761.5   28   \n",
       "\n",
       "       Concrete  \n",
       "1     61.887366  \n",
       "5     47.029847  \n",
       "7     36.447770  \n",
       "8     45.854291  \n",
       "9     39.289790  \n",
       "...         ...  \n",
       "1025  44.284354  \n",
       "1026  31.178794  \n",
       "1027  23.696601  \n",
       "1028  32.768036  \n",
       "1029  32.401235  \n",
       "\n",
       "[941 rows x 9 columns]"
      ]
     },
     "execution_count": 13,
     "metadata": {},
     "output_type": "execute_result"
    }
   ],
   "source": [
    "# Treating Null_values:\n",
    "\n",
    "df = df[~((df[cols] < (q1 - 1.5* iqr)) | (df[cols] > (q3 + 1.5 * iqr))).any(axis = 1)]\n",
    "df"
   ]
  },
  {
   "cell_type": "code",
   "execution_count": 14,
   "metadata": {},
   "outputs": [
    {
     "data": {
      "text/plain": [
       "85.0"
      ]
     },
     "execution_count": 14,
     "metadata": {},
     "output_type": "execute_result"
    }
   ],
   "source": [
    "((1030 - 945) /100)*100"
   ]
  },
  {
   "cell_type": "markdown",
   "metadata": {},
   "source": [
    "### 8) Perform univariate analysis (be as creative as possible in your analysis)."
   ]
  },
  {
   "cell_type": "code",
   "execution_count": 15,
   "metadata": {},
   "outputs": [
    {
     "data": {
      "text/plain": [
       "<AxesSubplot:xlabel='Age', ylabel='Density'>"
      ]
     },
     "execution_count": 15,
     "metadata": {},
     "output_type": "execute_result"
    },
    {
     "data": {
      "image/png": "[encoded data removed]",
      "text/plain": [
       "<Figure size 1152x576 with 8 Axes>"
      ]
     },
     "metadata": {},
     "output_type": "display_data"
    }
   ],
   "source": [
    "plt.figure(figsize = (16,8))\n",
    "plt.subplot(3,3,1)\n",
    "sns.kdeplot(df.Cement)\n",
    "plt.subplot(3,3,2)\n",
    "sns.kdeplot(df.Blast_Fur)\n",
    "plt.subplot(3,3,3)\n",
    "sns.kdeplot(df.Fly_Ash)\n",
    "plt.subplot(3,3,4)\n",
    "sns.kdeplot(df.Water)\n",
    "plt.subplot(3,3,5)\n",
    "sns.kdeplot(df.Plasticizer)\n",
    "plt.subplot(3,3,6)\n",
    "sns.kdeplot(df.Coarse)\n",
    "plt.subplot(3,3,7)\n",
    "sns.kdeplot(df.Fine)\n",
    "plt.subplot(3,3,8)\n",
    "sns.kdeplot(df.Age)"
   ]
  },
  {
   "cell_type": "markdown",
   "metadata": {},
   "source": [
    "####  When we observe the above plotted graphs some are normally distributed and some other are positively skewed.\n",
    "####  If we remove much outliers then we will loose the data, as experts said that the outliers are less than 5% then we will remove otherwise their will be inconsistency in data."
   ]
  },
  {
   "cell_type": "code",
   "execution_count": 16,
   "metadata": {},
   "outputs": [
    {
     "data": {
      "text/plain": [
       "<AxesSubplot:xlabel='Age'>"
      ]
     },
     "execution_count": 16,
     "metadata": {},
     "output_type": "execute_result"
    },
    {
     "data": {
      "image/png": "[encoded data removed]",
      "text/plain": [
       "<Figure size 1152x576 with 8 Axes>"
      ]
     },
     "metadata": {},
     "output_type": "display_data"
    }
   ],
   "source": [
    "plt.figure(figsize = (16,8))\n",
    "plt.subplot(3,3,1)\n",
    "sns.boxplot(df.Cement)\n",
    "plt.subplot(3,3,2)\n",
    "sns.boxplot(df.Blast_Fur)\n",
    "plt.subplot(3,3,3)\n",
    "sns.boxplot(df.Fly_Ash)\n",
    "plt.subplot(3,3,4)\n",
    "sns.boxplot(df.Water)\n",
    "plt.subplot(3,3,5)\n",
    "sns.boxplot(df.Plasticizer)\n",
    "plt.subplot(3,3,6)\n",
    "sns.boxplot(df.Coarse)\n",
    "plt.subplot(3,3,7)\n",
    "sns.boxplot(df.Fine)\n",
    "plt.subplot(3,3,8)\n",
    "sns.boxplot(df.Age)"
   ]
  },
  {
   "cell_type": "code",
   "execution_count": 17,
   "metadata": {},
   "outputs": [
    {
     "data": {
      "text/plain": [
       "<AxesSubplot:>"
      ]
     },
     "execution_count": 17,
     "metadata": {},
     "output_type": "execute_result"
    },
    {
     "data": {
      "image/png": "[encoded data removed]",
      "text/plain": [
       "<Figure size 1152x432 with 1 Axes>"
      ]
     },
     "metadata": {},
     "output_type": "display_data"
    }
   ],
   "source": [
    "plt.figure(figsize = (16,6))\n",
    "sns.boxplot(data = df,orient = 'h')"
   ]
  },
  {
   "cell_type": "markdown",
   "metadata": {},
   "source": [
    "### 9) Perform univariate analysis (be as creative as possible in your analysis)."
   ]
  },
  {
   "cell_type": "code",
   "execution_count": 18,
   "metadata": {},
   "outputs": [
    {
     "data": {
      "text/plain": [
       "<AxesSubplot:>"
      ]
     },
     "execution_count": 18,
     "metadata": {},
     "output_type": "execute_result"
    },
    {
     "data": {
      "image/png": "[encoded data removed]",
      "text/plain": [
       "<Figure size 1152x432 with 2 Axes>"
      ]
     },
     "metadata": {},
     "output_type": "display_data"
    }
   ],
   "source": [
    "plt.figure(figsize = (16,6))\n",
    "sns.heatmap(df.corr(),annot=True, cmap='RdYlGn')"
   ]
  },
  {
   "cell_type": "markdown",
   "metadata": {},
   "source": [
    "#### -> When we see the above graph some are highly correlated and some other are negatively correlated.\n",
    "        The one with green color are positively correlated, and with red color are negatively correlated.\n",
    "        Among all those concrete having higher correlation with most of the columns."
   ]
  },
  {
   "cell_type": "markdown",
   "metadata": {},
   "source": [
    "### 10) What is the type of machine learning problem at hand? (Supervised or Unsupervised?) Why?"
   ]
  },
  {
   "cell_type": "markdown",
   "metadata": {},
   "source": [
    "At hand we are having supervised machine learning problem. \n",
    "Supervised learning requires that the algorithms possible outputs are already known and that the data used to train the algorithm is already labelled with correct."
   ]
  },
  {
   "cell_type": "markdown",
   "metadata": {},
   "source": [
    "### 11) What is the category of the machine learning problem at hand? (Classification or Regression?) Why?"
   ]
  },
  {
   "cell_type": "markdown",
   "metadata": {},
   "source": [
    " As we see the dataset, it is completly numerical. So, we choose regression learning algorithms."
   ]
  },
  {
   "cell_type": "markdown",
   "metadata": {},
   "source": [
    "### 12) Pick each of the algorithm and perform the below steps:"
   ]
  },
  {
   "cell_type": "code",
   "execution_count": 19,
   "metadata": {},
   "outputs": [],
   "source": [
    "from sklearn.model_selection import train_test_split\n",
    "from sklearn.model_selection import cross_val_score"
   ]
  },
  {
   "cell_type": "code",
   "execution_count": 20,
   "metadata": {},
   "outputs": [],
   "source": [
    "feature_vars = ['Cement', 'Blast_Fur', 'Fly_Ash', 'Water', 'Plasticizer', 'Coarse','Fine', 'Age']\n",
    "X = df[feature_vars]\n",
    "y = df['Concrete']"
   ]
  },
  {
   "cell_type": "code",
   "execution_count": 21,
   "metadata": {},
   "outputs": [],
   "source": [
    "X_train,X_test,y_train,y_test = train_test_split(X,y,test_size=0.2,random_state=42)"
   ]
  },
  {
   "cell_type": "code",
   "execution_count": 22,
   "metadata": {},
   "outputs": [
    {
     "data": {
      "text/plain": [
       "(941, 8)"
      ]
     },
     "execution_count": 22,
     "metadata": {},
     "output_type": "execute_result"
    }
   ],
   "source": [
    "X.shape"
   ]
  },
  {
   "cell_type": "code",
   "execution_count": 23,
   "metadata": {},
   "outputs": [
    {
     "data": {
      "text/plain": [
       "(941,)"
      ]
     },
     "execution_count": 23,
     "metadata": {},
     "output_type": "execute_result"
    }
   ],
   "source": [
    "y.shape"
   ]
  },
  {
   "cell_type": "markdown",
   "metadata": {},
   "source": [
    "### a) Linear Regression:"
   ]
  },
  {
   "cell_type": "code",
   "execution_count": 24,
   "metadata": {},
   "outputs": [
    {
     "data": {
      "text/plain": [
       "LinearRegression()"
      ]
     },
     "execution_count": 24,
     "metadata": {},
     "output_type": "execute_result"
    }
   ],
   "source": [
    "from sklearn.linear_model import LinearRegression\n",
    "from sklearn.metrics import confusion_matrix\n",
    "reg = LinearRegression()\n",
    "reg.fit(X_train,y_train)"
   ]
  },
  {
   "cell_type": "code",
   "execution_count": 25,
   "metadata": {},
   "outputs": [],
   "source": [
    "y_pred_test = reg.predict(X_test)\n",
    "y_pred_train = reg.predict(X_train)"
   ]
  },
  {
   "cell_type": "code",
   "execution_count": 26,
   "metadata": {},
   "outputs": [],
   "source": [
    "from sklearn.metrics import mean_squared_error, r2_score"
   ]
  },
  {
   "cell_type": "code",
   "execution_count": 27,
   "metadata": {},
   "outputs": [
    {
     "name": "stdout",
     "output_type": "stream",
     "text": [
      "LinearRegression test result:\n",
      "MSE:  67.190629\n",
      "R Squared:0.741549\n"
     ]
    }
   ],
   "source": [
    "print('LinearRegression test result:')\n",
    "print('MSE: % 2f' % mean_squared_error(y_test,y_pred_test))\n",
    "print('R Squared:%2f'% r2_score(y_test,y_pred_test))"
   ]
  },
  {
   "cell_type": "code",
   "execution_count": 28,
   "metadata": {},
   "outputs": [
    {
     "name": "stdout",
     "output_type": "stream",
     "text": [
      "LinearRegression train result:\n",
      "MSE:  62.507927\n",
      "R Squared:0.775737\n"
     ]
    }
   ],
   "source": [
    "print('LinearRegression train result:')\n",
    "print('MSE: % 2f' % mean_squared_error(y_train,y_pred_train))\n",
    "print('R Squared:%2f'% r2_score(y_train,y_pred_train))"
   ]
  },
  {
   "cell_type": "markdown",
   "metadata": {},
   "source": [
    "-> In LinearRegression the Train result R_Squared score is more. So, the model fits to the training dataset."
   ]
  },
  {
   "cell_type": "code",
   "execution_count": 29,
   "metadata": {},
   "outputs": [
    {
     "name": "stdout",
     "output_type": "stream",
     "text": [
      "LinearRegression Crossval 5 : 76.73965237914221\n"
     ]
    }
   ],
   "source": [
    "lin_cv_5 = cross_val_score(reg,X_train,y_train,cv=5).mean()\n",
    "print('LinearRegression Crossval 5 :',(lin_cv_5)*100)"
   ]
  },
  {
   "cell_type": "code",
   "execution_count": 30,
   "metadata": {},
   "outputs": [
    {
     "name": "stdout",
     "output_type": "stream",
     "text": [
      "LinearRegression Crossval 10 : 76.40788171147555\n"
     ]
    }
   ],
   "source": [
    "lin_cv_10 = cross_val_score(reg,X_train,y_train,cv=10).mean()\n",
    "print('LinearRegression Crossval 10 :',(lin_cv_10)*100)"
   ]
  },
  {
   "cell_type": "markdown",
   "metadata": {},
   "source": [
    "### b) Lasso Regression:"
   ]
  },
  {
   "cell_type": "code",
   "execution_count": 31,
   "metadata": {},
   "outputs": [
    {
     "data": {
      "text/plain": [
       "Lasso(alpha=1)"
      ]
     },
     "execution_count": 31,
     "metadata": {},
     "output_type": "execute_result"
    }
   ],
   "source": [
    "from sklearn.linear_model import Lasso\n",
    "lassoR = Lasso(alpha=1)\n",
    "lassoR.fit(X_train, y_train)"
   ]
  },
  {
   "cell_type": "code",
   "execution_count": 32,
   "metadata": {},
   "outputs": [],
   "source": [
    "y_test_lasso = lassoR.predict(X_test)\n",
    "y_train_lasso = lassoR.predict(X_train)"
   ]
  },
  {
   "cell_type": "code",
   "execution_count": 33,
   "metadata": {},
   "outputs": [
    {
     "name": "stdout",
     "output_type": "stream",
     "text": [
      "LassoRegression test result:\n",
      "MSE train:  68.128806\n",
      "R Squared train:0.737941\n"
     ]
    }
   ],
   "source": [
    "print('LassoRegression test result:')\n",
    "print('MSE train: % 2f' % mean_squared_error(y_test,y_test_lasso))\n",
    "print('R Squared train:%2f'% r2_score(y_test,y_test_lasso))"
   ]
  },
  {
   "cell_type": "code",
   "execution_count": 34,
   "metadata": {},
   "outputs": [
    {
     "name": "stdout",
     "output_type": "stream",
     "text": [
      "LassoRegression train result:\n",
      "MSE train:  62.570564\n",
      "R Squared train:0.775512\n"
     ]
    }
   ],
   "source": [
    "print('LassoRegression train result:')\n",
    "print('MSE train: % 2f' % mean_squared_error(y_train,y_train_lasso))\n",
    "print('R Squared train:%2f'% r2_score(y_train,y_train_lasso))"
   ]
  },
  {
   "cell_type": "markdown",
   "metadata": {},
   "source": [
    "-> In LassoRegression the Train result R_Squared score is more. So, the model fits to the training dataset."
   ]
  },
  {
   "cell_type": "code",
   "execution_count": 35,
   "metadata": {},
   "outputs": [
    {
     "name": "stdout",
     "output_type": "stream",
     "text": [
      "LassoReg Crossval 5 : 76.74674431997784\n"
     ]
    }
   ],
   "source": [
    "las_cv_5 = cross_val_score(lassoR,X_train,y_train,cv=5).mean()\n",
    "print('LassoReg Crossval 5 :',(las_cv_5)*100)"
   ]
  },
  {
   "cell_type": "code",
   "execution_count": 36,
   "metadata": {},
   "outputs": [
    {
     "name": "stdout",
     "output_type": "stream",
     "text": [
      "LassoReg Crossval 10 76.40418956699023\n"
     ]
    }
   ],
   "source": [
    "las_cv_10 = cross_val_score(lassoR,X_train,y_train,cv=10).mean()\n",
    "print('LassoReg Crossval 10',(las_cv_10)*100)"
   ]
  },
  {
   "cell_type": "markdown",
   "metadata": {},
   "source": [
    "### c) Ridge Regression:"
   ]
  },
  {
   "cell_type": "code",
   "execution_count": 37,
   "metadata": {},
   "outputs": [
    {
     "data": {
      "text/plain": [
       "Ridge(alpha=1)"
      ]
     },
     "execution_count": 37,
     "metadata": {},
     "output_type": "execute_result"
    }
   ],
   "source": [
    "from sklearn.linear_model import Ridge\n",
    "ridgeR = Ridge(alpha=1)\n",
    "ridgeR.fit(X_train, y_train)"
   ]
  },
  {
   "cell_type": "code",
   "execution_count": 38,
   "metadata": {},
   "outputs": [],
   "source": [
    "y_test_ridge = ridgeR.predict(X_test)\n",
    "y_train_ridge = ridgeR.predict(X_train)"
   ]
  },
  {
   "cell_type": "code",
   "execution_count": 39,
   "metadata": {},
   "outputs": [
    {
     "name": "stdout",
     "output_type": "stream",
     "text": [
      "RidgeRegression test result:\n",
      "MSE train:  67.190677\n",
      "R Squared train:0.741549\n"
     ]
    }
   ],
   "source": [
    "print('RidgeRegression test result:')\n",
    "print('MSE train: % 2f' % mean_squared_error(y_test,y_test_ridge))\n",
    "print('R Squared train:%2f'% r2_score(y_test,y_test_ridge))"
   ]
  },
  {
   "cell_type": "code",
   "execution_count": 40,
   "metadata": {},
   "outputs": [
    {
     "name": "stdout",
     "output_type": "stream",
     "text": [
      "RidgeRegression train result:\n",
      "MSE train:  62.507927\n",
      "R Squared train:0.775737\n"
     ]
    }
   ],
   "source": [
    "print('RidgeRegression train result:')\n",
    "print('MSE train: % 2f' % mean_squared_error(y_train,y_train_ridge))\n",
    "print('R Squared train:%2f'% r2_score(y_train,y_train_ridge))"
   ]
  },
  {
   "cell_type": "markdown",
   "metadata": {},
   "source": [
    "-> In RidgeRegression the Train result R_Squared score is more. So, the model fits to the training dataset."
   ]
  },
  {
   "cell_type": "code",
   "execution_count": 41,
   "metadata": {},
   "outputs": [
    {
     "name": "stdout",
     "output_type": "stream",
     "text": [
      "Ridgereg Crossval 5 : 76.73966936739859\n"
     ]
    }
   ],
   "source": [
    "rid_cv_5 = cross_val_score(ridgeR,X_train,y_train,cv=5).mean()\n",
    "print('Ridgereg Crossval 5 :',(rid_cv_5)*100)"
   ]
  },
  {
   "cell_type": "code",
   "execution_count": 42,
   "metadata": {},
   "outputs": [
    {
     "name": "stdout",
     "output_type": "stream",
     "text": [
      "Ridgereg crossval 10 : 76.40790393162347\n"
     ]
    }
   ],
   "source": [
    "rid_cv_10 = cross_val_score(ridgeR,X_train,y_train,cv=10).mean()\n",
    "print('Ridgereg crossval 10 :',(rid_cv_10)*100)"
   ]
  },
  {
   "cell_type": "markdown",
   "metadata": {},
   "source": [
    "### d) Decision Tree Regressor:"
   ]
  },
  {
   "cell_type": "code",
   "execution_count": 43,
   "metadata": {},
   "outputs": [
    {
     "data": {
      "text/plain": [
       "DecisionTreeRegressor(random_state=0)"
      ]
     },
     "execution_count": 43,
     "metadata": {},
     "output_type": "execute_result"
    }
   ],
   "source": [
    "from sklearn.tree import DecisionTreeRegressor\n",
    "feature_vars = ['Cement', 'Blast_Fur', 'Fly_Ash', 'Water', 'Plasticizer', 'Coarse','Fine', 'Age']\n",
    "X = df[feature_vars]\n",
    "y = df['Concrete']\n",
    "X_train,X_test,y_train,y_test = train_test_split(X,y,test_size=0.2,random_state=42)\n",
    "model_dt = DecisionTreeRegressor(random_state = 0)\n",
    "model_dt.fit(X_train,y_train)"
   ]
  },
  {
   "cell_type": "code",
   "execution_count": 44,
   "metadata": {},
   "outputs": [],
   "source": [
    "y_pred_test = model_dt.predict(X_test)\n",
    "y_pred_train = model_dt.predict(X_train)"
   ]
  },
  {
   "cell_type": "code",
   "execution_count": 45,
   "metadata": {},
   "outputs": [
    {
     "name": "stdout",
     "output_type": "stream",
     "text": [
      "DecisionTree test result:\n",
      "MSE:  66.057190\n",
      "R Squared:0.745909\n"
     ]
    }
   ],
   "source": [
    "print('DecisionTree test result:')\n",
    "print('MSE: % 2f' % mean_squared_error(y_test,y_pred_test))\n",
    "print('R Squared:%2f'% r2_score(y_test,y_pred_test))"
   ]
  },
  {
   "cell_type": "code",
   "execution_count": 46,
   "metadata": {},
   "outputs": [
    {
     "name": "stdout",
     "output_type": "stream",
     "text": [
      "DecisionTree train result:\n",
      "MSE train:  0.773756\n",
      "R Squared train:0.997224\n"
     ]
    }
   ],
   "source": [
    "print('DecisionTree train result:')\n",
    "print('MSE train: % 2f' % mean_squared_error(y_train,y_pred_train))\n",
    "print('R Squared train:%2f'% r2_score(y_train,y_pred_train))"
   ]
  },
  {
   "cell_type": "markdown",
   "metadata": {},
   "source": [
    "-> In DecisionTreeRegression the Train result R_Squared score is more. So, the model fits to the training dataset."
   ]
  },
  {
   "cell_type": "code",
   "execution_count": 47,
   "metadata": {},
   "outputs": [
    {
     "name": "stdout",
     "output_type": "stream",
     "text": [
      "DecisionTree Crossval 5 : 84.69468214675786\n"
     ]
    }
   ],
   "source": [
    "dt_cv_5 = cross_val_score(model_dt,X_train,y_train,cv=5).mean()\n",
    "print('DecisionTree Crossval 5 :',(dt_cv_5)*100)"
   ]
  },
  {
   "cell_type": "code",
   "execution_count": 48,
   "metadata": {},
   "outputs": [
    {
     "name": "stdout",
     "output_type": "stream",
     "text": [
      "DecisionTree Crossval 10 : 84.60716967905644\n"
     ]
    }
   ],
   "source": [
    "dt_cv_10 = cross_val_score(model_dt,X_train,y_train,cv=10).mean()\n",
    "print('DecisionTree Crossval 10 :',(dt_cv_10)*100)"
   ]
  },
  {
   "cell_type": "markdown",
   "metadata": {},
   "source": [
    "### e) RandomForest Regression:"
   ]
  },
  {
   "cell_type": "code",
   "execution_count": 49,
   "metadata": {},
   "outputs": [],
   "source": [
    "from sklearn.ensemble import RandomForestRegressor"
   ]
  },
  {
   "cell_type": "code",
   "execution_count": 50,
   "metadata": {},
   "outputs": [
    {
     "data": {
      "text/plain": [
       "RandomForestRegressor(random_state=0)"
      ]
     },
     "execution_count": 50,
     "metadata": {},
     "output_type": "execute_result"
    }
   ],
   "source": [
    "feature_vars = ['Cement', 'Blast_Fur', 'Fly_Ash', 'Water', 'Plasticizer', 'Coarse','Fine', 'Age']\n",
    "X = df[feature_vars]\n",
    "y = df['Concrete']\n",
    "X_train,X_test,y_train,y_test = train_test_split(X,y,test_size=0.2,random_state=42)\n",
    "model_rf = RandomForestRegressor(random_state = 0)\n",
    "model_rf.fit(X_train,y_train)"
   ]
  },
  {
   "cell_type": "code",
   "execution_count": 51,
   "metadata": {},
   "outputs": [],
   "source": [
    "y_pred_test = model_rf.predict(X_test)\n",
    "y_pred_train = model_rf.predict(X_train)"
   ]
  },
  {
   "cell_type": "code",
   "execution_count": 52,
   "metadata": {},
   "outputs": [
    {
     "name": "stdout",
     "output_type": "stream",
     "text": [
      "RandomForest test result:\n",
      "MSE:  32.298417\n",
      "R Squared:0.875763\n"
     ]
    }
   ],
   "source": [
    "print('RandomForest test result:')\n",
    "print('MSE: % 2f' % mean_squared_error(y_test,y_pred_test))\n",
    "print('R Squared:%2f'% r2_score(y_test,y_pred_test))"
   ]
  },
  {
   "cell_type": "code",
   "execution_count": 53,
   "metadata": {},
   "outputs": [
    {
     "name": "stdout",
     "output_type": "stream",
     "text": [
      "RandomForest train result:\n",
      "MSE:  3.941204\n",
      "R Squared:0.985860\n"
     ]
    }
   ],
   "source": [
    "print('RandomForest train result:')\n",
    "print('MSE: % 2f' % mean_squared_error(y_train,y_pred_train))\n",
    "print('R Squared:%2f'% r2_score(y_train,y_pred_train))"
   ]
  },
  {
   "cell_type": "markdown",
   "metadata": {},
   "source": [
    "-> In RandomForestRegression the Train result R_Squared score is more. So, the model fits to the training dataset."
   ]
  },
  {
   "cell_type": "code",
   "execution_count": 54,
   "metadata": {},
   "outputs": [
    {
     "name": "stdout",
     "output_type": "stream",
     "text": [
      "RandTree Crossval 5 : 89.73396759452199\n"
     ]
    }
   ],
   "source": [
    "rad_cv_5 = cross_val_score(model_rf,X_train,y_train,cv=5).mean()\n",
    "print('RandTree Crossval 5 :',(rad_cv_5)*100)"
   ]
  },
  {
   "cell_type": "code",
   "execution_count": 55,
   "metadata": {},
   "outputs": [
    {
     "name": "stdout",
     "output_type": "stream",
     "text": [
      "RandTree Crossval 10 : 90.83665576415282\n"
     ]
    }
   ],
   "source": [
    "rad_cv_10 = cross_val_score(model_rf,X_train,y_train,cv=10).mean()\n",
    "print('RandTree Crossval 10 :',(rad_cv_10)*100)"
   ]
  },
  {
   "cell_type": "markdown",
   "metadata": {},
   "source": [
    "### f) KNN Regressor:"
   ]
  },
  {
   "cell_type": "code",
   "execution_count": 56,
   "metadata": {},
   "outputs": [],
   "source": [
    "from sklearn.neighbors import KNeighborsRegressor"
   ]
  },
  {
   "cell_type": "code",
   "execution_count": 57,
   "metadata": {},
   "outputs": [
    {
     "data": {
      "text/plain": [
       "KNeighborsRegressor(n_neighbors=2)"
      ]
     },
     "execution_count": 57,
     "metadata": {},
     "output_type": "execute_result"
    }
   ],
   "source": [
    "feature_vars = ['Cement', 'Blast_Fur', 'Fly_Ash', 'Water', 'Plasticizer', 'Coarse','Fine', 'Age']\n",
    "X = df[feature_vars]\n",
    "y = df['Concrete']\n",
    "X_train,X_test,y_train,y_test = train_test_split(X,y,test_size=0.2,random_state=42)\n",
    "model_knn = KNeighborsRegressor(n_neighbors = 2)\n",
    "model_knn.fit(X_train,y_train)"
   ]
  },
  {
   "cell_type": "code",
   "execution_count": 58,
   "metadata": {},
   "outputs": [],
   "source": [
    "y_pred_test = model_knn.predict(X_test)\n",
    "y_pred_train = model_knn.predict(X_train)"
   ]
  },
  {
   "cell_type": "code",
   "execution_count": 59,
   "metadata": {},
   "outputs": [
    {
     "name": "stdout",
     "output_type": "stream",
     "text": [
      "KNN test result:\n",
      "MSE:  106.872965\n",
      "R Squared:0.588910\n"
     ]
    }
   ],
   "source": [
    "print('KNN test result:')\n",
    "print('MSE: % 2f' % mean_squared_error(y_test,y_pred_test))\n",
    "print('R Squared:%2f'% r2_score(y_test,y_pred_test))"
   ]
  },
  {
   "cell_type": "code",
   "execution_count": 60,
   "metadata": {},
   "outputs": [
    {
     "name": "stdout",
     "output_type": "stream",
     "text": [
      "KNN train result:\n",
      "MSE:  20.702446\n",
      "R Squared:0.925725\n"
     ]
    }
   ],
   "source": [
    "print('KNN train result:')\n",
    "print('MSE: % 2f' % mean_squared_error(y_train,y_pred_train))\n",
    "print('R Squared:%2f'% r2_score(y_train,y_pred_train))"
   ]
  },
  {
   "cell_type": "markdown",
   "metadata": {},
   "source": [
    "-> In KNNRegression the Train result R_Squared score is more. So, the model fits to the training dataset."
   ]
  },
  {
   "cell_type": "code",
   "execution_count": 61,
   "metadata": {},
   "outputs": [
    {
     "name": "stdout",
     "output_type": "stream",
     "text": [
      "knnreg Crossval 5 : 67.08305275944915\n"
     ]
    }
   ],
   "source": [
    "knn_cv_5 = cross_val_score(model_knn,X_train,y_train,cv=5).mean()\n",
    "print('knnreg Crossval 5 :',(knn_cv_5)*100)"
   ]
  },
  {
   "cell_type": "code",
   "execution_count": 62,
   "metadata": {},
   "outputs": [
    {
     "name": "stdout",
     "output_type": "stream",
     "text": [
      "knnreg Crossval 10 : 68.44448120024376\n"
     ]
    }
   ],
   "source": [
    "knn_cv_10 = cross_val_score(model_knn,X_train,y_train,cv=10).mean()\n",
    "print('knnreg Crossval 10 :',(knn_cv_10)*100)"
   ]
  },
  {
   "cell_type": "markdown",
   "metadata": {},
   "source": [
    "### g) SVM Regressor:"
   ]
  },
  {
   "cell_type": "code",
   "execution_count": 63,
   "metadata": {},
   "outputs": [],
   "source": [
    "from sklearn.svm import SVR\n",
    "from sklearn.pipeline import make_pipeline\n",
    "from sklearn.preprocessing import StandardScaler"
   ]
  },
  {
   "cell_type": "code",
   "execution_count": 64,
   "metadata": {},
   "outputs": [
    {
     "data": {
      "text/plain": [
       "Pipeline(steps=[('standardscaler', StandardScaler()),\n",
       "                ('svr', SVR(epsilon=0.2))])"
      ]
     },
     "execution_count": 64,
     "metadata": {},
     "output_type": "execute_result"
    }
   ],
   "source": [
    "feature_vars = ['Cement', 'Blast_Fur', 'Fly_Ash', 'Water', 'Plasticizer', 'Coarse','Fine', 'Age']\n",
    "X = df[feature_vars]\n",
    "y = df['Concrete']\n",
    "X_train,X_test,y_train,y_test = train_test_split(X,y,test_size=0.2,random_state=42)\n",
    "model_svm = make_pipeline(StandardScaler(), SVR(C = 1.0, epsilon = 0.2))\n",
    "model_svm.fit(X_train,y_train)"
   ]
  },
  {
   "cell_type": "code",
   "execution_count": 65,
   "metadata": {},
   "outputs": [],
   "source": [
    "y_pred_test = model_svm.predict(X_test)\n",
    "y_pred_train = model_svm.predict(X_train)"
   ]
  },
  {
   "cell_type": "code",
   "execution_count": 66,
   "metadata": {},
   "outputs": [
    {
     "name": "stdout",
     "output_type": "stream",
     "text": [
      "SVM test result:\n",
      "MSE:  77.000019\n",
      "R Squared:0.703817\n"
     ]
    }
   ],
   "source": [
    "print('SVM test result:')\n",
    "print('MSE: % 2f' % mean_squared_error(y_test,y_pred_test))\n",
    "print('R Squared:%2f'% r2_score(y_test,y_pred_test))"
   ]
  },
  {
   "cell_type": "code",
   "execution_count": 67,
   "metadata": {},
   "outputs": [
    {
     "name": "stdout",
     "output_type": "stream",
     "text": [
      "SVM train result:\n",
      "MSE:  67.392216\n",
      "R Squared:0.758213\n"
     ]
    }
   ],
   "source": [
    "print('SVM train result:')\n",
    "print('MSE: % 2f' % mean_squared_error(y_train,y_pred_train))\n",
    "print('R Squared:%2f'% r2_score(y_train,y_pred_train))"
   ]
  },
  {
   "cell_type": "markdown",
   "metadata": {},
   "source": [
    "-> In SVMRegression the Train result R_Squared score is more. So, the model fits to the training dataset."
   ]
  },
  {
   "cell_type": "code",
   "execution_count": 68,
   "metadata": {},
   "outputs": [
    {
     "name": "stdout",
     "output_type": "stream",
     "text": [
      "Svmreg Crossval 5 : 69.83805191500142\n"
     ]
    }
   ],
   "source": [
    "svm_cv_5 = cross_val_score(model_svm,X_train,y_train,cv=5).mean()\n",
    "print('Svmreg Crossval 5 :',(svm_cv_5)*100)"
   ]
  },
  {
   "cell_type": "code",
   "execution_count": 69,
   "metadata": {},
   "outputs": [
    {
     "name": "stdout",
     "output_type": "stream",
     "text": [
      "Svmreg Crossval 10 : 71.47349025377322\n"
     ]
    }
   ],
   "source": [
    "svm_cv_10 = cross_val_score(model_svm,X_train,y_train,cv=10).mean()\n",
    "print('Svmreg Crossval 10 :',(svm_cv_10)*100)"
   ]
  },
  {
   "cell_type": "markdown",
   "metadata": {},
   "source": [
    "### Plotting Feature Importances:"
   ]
  },
  {
   "cell_type": "code",
   "execution_count": 70,
   "metadata": {},
   "outputs": [
    {
     "data": {
      "text/plain": [
       "Text(0.5, 0, 'Random Forest')"
      ]
     },
     "execution_count": 70,
     "metadata": {},
     "output_type": "execute_result"
    },
    {
     "data": {
      "image/png": "[encoded data removed]",
      "text/plain": [
       "<Figure size 1152x360 with 2 Axes>"
      ]
     },
     "metadata": {},
     "output_type": "display_data"
    }
   ],
   "source": [
    "plt.figure(figsize = (16,5))\n",
    "plt.subplot(1,2,1)\n",
    "model_dt = pd.Series(model_dt.feature_importances_, index=feature_vars).sort_values()\n",
    "model_dt.plot(kind = 'barh',title = 'Feature Importance')\n",
    "plt.xlabel('Decision Tree')\n",
    "plt.subplot(1,2,2)\n",
    "model_rf = pd.Series(model_rf.feature_importances_, index=feature_vars).sort_values()\n",
    "model_rf.plot(kind='barh',title = 'Feature Importance')\n",
    "plt.xlabel('Random Forest')"
   ]
  },
  {
   "cell_type": "markdown",
   "metadata": {},
   "source": [
    "### Conclusion:"
   ]
  },
  {
   "cell_type": "markdown",
   "metadata": {},
   "source": [
    "1) RandomForest fits the model best for testing data with highest(r_squared) value of 0.87"
   ]
  },
  {
   "cell_type": "markdown",
   "metadata": {},
   "source": [
    "2) DecisionTree fits the model best for training data with highest(r_squared) value of 0.99"
   ]
  },
  {
   "cell_type": "markdown",
   "metadata": {},
   "source": [
    "3) RandomForest is the best model among all with highest cross_validation_5 accuracy of 89% "
   ]
  },
  {
   "cell_type": "markdown",
   "metadata": {},
   "source": [
    "4) RandomForest is the best model among all with highest cross_validation_10 accuracy of 90% "
   ]
  },
  {
   "cell_type": "markdown",
   "metadata": {},
   "source": [
    "Finally, i conclude that the dataset is best fit for training dataset because of the decision tree having highest r_squared value of 0.99.\n",
    "When comes to the best algorithm, among all RandomForest is the best algorithm  having an accuracy of 90%."
   ]
  },
  {
   "cell_type": "code",
   "execution_count": null,
   "metadata": {},
   "outputs": [],
   "source": []
  }
 ],
 "metadata": {
  "kernelspec": {
   "display_name": "Python 3 (ipykernel)",
   "language": "python",
   "name": "python3"
  },
  "language_info": {
   "codemirror_mode": {
    "name": "ipython",
    "version": 3
   },
   "file_extension": ".py",
   "mimetype": "text/x-python",
   "name": "python",
   "nbconvert_exporter": "python",
   "pygments_lexer": "ipython3",
   "version": "3.9.7"
  }
 },
 "nbformat": 4,
 "nbformat_minor": 4
}
